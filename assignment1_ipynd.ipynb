{
  "nbformat": 4,
  "nbformat_minor": 0,
  "metadata": {
    "colab": {
      "provenance": [],
      "authorship_tag": "ABX9TyOGvOKZRnuftC0YFYJvXXzv",
      "include_colab_link": true
    },
    "kernelspec": {
      "name": "python3",
      "display_name": "Python 3"
    },
    "language_info": {
      "name": "python"
    }
  },
  "cells": [
    {
      "cell_type": "markdown",
      "metadata": {
        "id": "view-in-github",
        "colab_type": "text"
      },
      "source": [
        "<a href=\"https://colab.research.google.com/github/BhuvanCM/Python-Assignment1/blob/main/assignment1_ipynd.ipynb\" target=\"_parent\"><img src=\"https://colab.research.google.com/assets/colab-badge.svg\" alt=\"Open In Colab\"/></a>"
      ]
    },
    {
      "cell_type": "code",
      "source": [
        "def merge_alternate(word1, word2):\n",
        "    merged = \"\".join(a + b for a, b in zip(word1, word2))+ word1[len(word2):] + word2[len(word1):]\n",
        "    return merged\n",
        "\n",
        "word1 = \"abc\"\n",
        "word2 = \"pqr\"\n",
        "output = merge_alternate(word1, word2)\n",
        "print(\"Output:\", output)"
      ],
      "metadata": {
        "colab": {
          "base_uri": "https://localhost:8080/"
        },
        "id": "3zqvn76V8sQU",
        "outputId": "c32f220e-85b0-4800-afd4-b09641bd5c52"
      },
      "execution_count": null,
      "outputs": [
        {
          "output_type": "stream",
          "name": "stdout",
          "text": [
            "Output: apbqcr\n"
          ]
        }
      ]
    },
    {
      "cell_type": "code",
      "source": [
        "def merge_alternate(word1, word2):\n",
        "    return \"\".join(a + b for a, b in zip(word1, word2)) + word1[len(word2):] + word2[len(word1):]\n",
        "word1, word2 = \"ab\", \"pqrs\"\n",
        "print(\"Output:\", merge_alternate(word1, word2))"
      ],
      "metadata": {
        "colab": {
          "base_uri": "https://localhost:8080/"
        },
        "id": "HcFc4zJM88Be",
        "outputId": "1cf152e8-6625-4674-8724-b1e0769ac9f5"
      },
      "execution_count": null,
      "outputs": [
        {
          "output_type": "stream",
          "name": "stdout",
          "text": [
            "Output: apbqrs\n"
          ]
        }
      ]
    },
    {
      "cell_type": "code",
      "source": [
        "def merge_alternate(word1, word2):\n",
        "    return \"\".join(a + b for a, b in zip(word1, word2)) + word1[len(word2):] + word2[len(word1):]\n",
        "word1, word2 = \"abcd\", \"pq\"\n",
        "print(\"Output:\", merge_alternate(word1, word2))"
      ],
      "metadata": {
        "colab": {
          "base_uri": "https://localhost:8080/"
        },
        "id": "FvsmvcHn9Kbc",
        "outputId": "df2e3428-e295-4182-d2ee-4d515185da3e"
      },
      "execution_count": null,
      "outputs": [
        {
          "output_type": "stream",
          "name": "stdout",
          "text": [
            "Output: apbqcd\n"
          ]
        }
      ]
    },
    {
      "cell_type": "code",
      "source": [
        "def strings(str1, str2):\n",
        "    while str2:\n",
        "        str1, str2 = str2, str1[:len(str1) % len(str2)]\n",
        "    return str1\n",
        "output = strings(\"ABCABC\",\"ABC\")\n",
        "print(\"Output:\",output)"
      ],
      "metadata": {
        "colab": {
          "base_uri": "https://localhost:8080/"
        },
        "id": "KHUJj9ps9Pc8",
        "outputId": "e713f028-3323-4784-bd9f-80e02f468987"
      },
      "execution_count": null,
      "outputs": [
        {
          "output_type": "stream",
          "name": "stdout",
          "text": [
            "Output: ABC\n"
          ]
        }
      ]
    },
    {
      "cell_type": "code",
      "source": [
        "def strings(str1, str2):\n",
        "    while str2:\n",
        "        str1, str2 = str2, str1[:len(str1) % len(str2)]\n",
        "    return str1\n",
        "output = strings(\"ABABAB\",\"ABAB\")\n",
        "print(\"Output:\",output)"
      ],
      "metadata": {
        "colab": {
          "base_uri": "https://localhost:8080/"
        },
        "id": "hbEicjE-9Qiy",
        "outputId": "4c34da7f-6f8d-4603-8288-824e02ceb79e"
      },
      "execution_count": null,
      "outputs": [
        {
          "output_type": "stream",
          "name": "stdout",
          "text": [
            "Output: AB\n"
          ]
        }
      ]
    },
    {
      "cell_type": "code",
      "source": [
        "def strings(str1, str2):\n",
        "    from math import gcd\n",
        "    return str1[:gcd(len(str1), len(str2))] if str1 + str2 == str2 + str1 else \"\"\n",
        "output = strings(\"LEET\",\"CODE\")\n",
        "print(\"Output:\",output)"
      ],
      "metadata": {
        "colab": {
          "base_uri": "https://localhost:8080/"
        },
        "id": "r4pnAiJO9RZ6",
        "outputId": "9bcb92d9-1e61-46f5-abf7-f0eb714e32ea"
      },
      "execution_count": null,
      "outputs": [
        {
          "output_type": "stream",
          "name": "stdout",
          "text": [
            "Output: \n"
          ]
        }
      ]
    }
  ]
}